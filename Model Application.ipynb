{
 "cells": [
  {
   "cell_type": "code",
   "execution_count": 2,
   "id": "1212678f-e9c6-49c9-ad8d-8a4d20b7618e",
   "metadata": {},
   "outputs": [
    {
     "name": "stdout",
     "output_type": "stream",
     "text": [
      "Median Value of house: [24.336]\n"
     ]
    }
   ],
   "source": [
    "from joblib import dump, load\n",
    "import numpy as np\n",
    "model = load('Model.joblib') \n",
    "\n",
    "#Input Variables\n",
    "#1. CRIM      -0.35082247\n",
    "#2. ZN        -0.49148409\n",
    "#3. INDUS     -1.25183452\n",
    "#4. CHAS      -0.27144836\n",
    "#5. NOX       -0.22208489\n",
    "#6. RM         0.35869844\n",
    "#7. AGE       -0.25450164\n",
    "#8. DIS        1.07434355\n",
    "#9. RAD       -0.91150503\n",
    "#10. TAX       0.17974455\n",
    "#11. PTRATIO  -1.08091535\n",
    "#12. B         0.2995192\n",
    "#13. LSTAT    -0.51357301\n",
    "#14. TAXRATIO  0.02300235\n",
    "\n",
    "\n",
    "features = np.array([[-0.35082247, -0.49148409, -1.25183452, -0.27144836, -0.22208489,\n",
    "        0.35869844, -0.25450164,  1.07434355, -0.91150503,  0.17974455,\n",
    "       -1.08091535,  0.2995192 , -0.51357301,  0.02300235]])\n",
    "price = model.predict(features)   #Target_variable\n",
    "print('Median Value of house:',price)"
   ]
  }
 ],
 "metadata": {
  "kernelspec": {
   "display_name": "Python 3 (ipykernel)",
   "language": "python",
   "name": "python3"
  },
  "language_info": {
   "codemirror_mode": {
    "name": "ipython",
    "version": 3
   },
   "file_extension": ".py",
   "mimetype": "text/x-python",
   "name": "python",
   "nbconvert_exporter": "python",
   "pygments_lexer": "ipython3",
   "version": "3.10.2"
  }
 },
 "nbformat": 4,
 "nbformat_minor": 5
}
